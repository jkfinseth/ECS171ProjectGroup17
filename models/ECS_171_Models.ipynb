{
 "cells": [
  {
   "cell_type": "code",
   "execution_count": 1,
   "metadata": {},
   "outputs": [],
   "source": [
    "### imports\n",
    "import tensorflow as tf\n",
    "import numpy as np\n",
    "import pandas as pd\n",
    "import pickle\n",
    "from sklearn.naive_bayes import CategoricalNB, GaussianNB\n",
    "from sklearn.preprocessing import LabelBinarizer, OrdinalEncoder, StandardScaler\n",
    "from sklearn.model_selection import train_test_split\n",
    "from sklearn.metrics import classification_report, accuracy_score\n",
    "from sklearn.tree import DecisionTreeClassifier"
   ]
  },
  {
   "attachments": {},
   "cell_type": "markdown",
   "metadata": {},
   "source": [
    "### Preprocessing"
   ]
  },
  {
   "cell_type": "code",
   "execution_count": 2,
   "metadata": {},
   "outputs": [],
   "source": [
    "hotel_df = pd.read_csv('Hotel Reservations.csv')\n",
    "hotel_df.drop(['Booking_ID'], inplace=True, axis=1)"
   ]
  },
  {
   "cell_type": "code",
   "execution_count": 3,
   "metadata": {},
   "outputs": [],
   "source": [
    "categorical_vars = ['type_of_meal_plan', 'required_car_parking_space', 'room_type_reserved', 'market_segment_type']\n",
    "numerical_vars = ['no_of_adults', 'no_of_children', 'no_of_weekend_nights', 'no_of_week_nights', 'lead_time', 'repeated_guest', 'no_of_previous_cancellations', 'no_of_previous_bookings_not_canceled', 'avg_price_per_room', 'no_of_special_requests']\n",
    "time_vars = ['arrival_year', 'arrival_month', 'arrival_date']\n",
    "\n",
    "excluded_vars = ['arrival_year']\n",
    "\n",
    "included_categorical_vars = [var for var in categorical_vars if var not in excluded_vars]\n",
    "included_numerical_vars = [var for var in numerical_vars if var not in excluded_vars]\n",
    "included_time_vars = [var for var in time_vars if var not in excluded_vars]\n",
    "\n",
    "X = hotel_df.drop(['booking_status'] + excluded_vars, axis=1)\n",
    "y = hotel_df['booking_status']\n",
    "\n",
    "y_bin = LabelBinarizer().fit_transform(y)\n",
    "\n",
    "# train-test split\n",
    "X_train, X_test, y_train, y_test = train_test_split(X, y_bin, test_size=0.2, random_state=92)"
   ]
  },
  {
   "attachments": {},
   "cell_type": "markdown",
   "metadata": {},
   "source": [
    "### Neural Network"
   ]
  },
  {
   "cell_type": "code",
   "execution_count": 4,
   "metadata": {},
   "outputs": [],
   "source": [
    "### load model\n",
    "model_nn = tf.keras.models.load_model('nn_final.h5', compile=False)\n",
    "model_nn.compile(optimizer=tf.keras.optimizers.Adam(learning_rate=0.005), \n",
    "                loss=tf.keras.losses.binary_crossentropy, \n",
    "                metrics=[tf.keras.metrics.BinaryAccuracy(name='accuracy')])"
   ]
  },
  {
   "cell_type": "code",
   "execution_count": 5,
   "metadata": {},
   "outputs": [],
   "source": [
    "### load feature transformer\n",
    "scaler = pickle.load(open('scaler.pkl', 'rb'))"
   ]
  },
  {
   "cell_type": "code",
   "execution_count": 6,
   "metadata": {},
   "outputs": [],
   "source": [
    "def nn_predict(x):\n",
    "    '''\n",
    "    Takes an input, x, and uses the neural network to predict if the hotel\n",
    "    reservation is cancelled.\n",
    "    \n",
    "    ------------\n",
    "    Input\n",
    "    ------------\n",
    "    The input must be an (n x 16) numpy array or an (n x 16) subset of a named DataFrame.\n",
    "\n",
    "    If the input is a numpy array, then order of the variables must be:\n",
    "\n",
    "    'type_of_meal_plan', 'required_car_parking_space', 'room_type_reserved', 'market_segment_type', 'no_of_adults', 'no_of_children', \n",
    "    'no_of_weekend_nights', 'no_of_week_nights', 'lead_time', 'repeated_guest', 'no_of_previous_cancellations', \n",
    "    'no_of_previous_bookings_not_canceled', 'avg_price_per_room', 'no_of_special_requests', 'arrival_month', 'arrival_date'\n",
    "\n",
    "    ------------\n",
    "    Output\n",
    "    ------------\n",
    "    The output is either 0 or 1.\n",
    "    0: 'Cancelled'\n",
    "    1: 'Not_Cancelled'\n",
    "    \n",
    "    '''\n",
    "    ### transform input\n",
    "    x_scaled = scaler.transform(x)\n",
    "\n",
    "    ### make prediction\n",
    "    threshold = 0.5\n",
    "    pred = model_nn.predict(x_scaled)\n",
    "    pred = np.where(pred >= threshold, 1, 0)\n",
    "\n",
    "    return pred"
   ]
  },
  {
   "cell_type": "code",
   "execution_count": 7,
   "metadata": {},
   "outputs": [
    {
     "name": "stdout",
     "output_type": "stream",
     "text": [
      "907/907 [==============================] - 2s 2ms/step\n",
      "227/227 [==============================] - 0s 2ms/step\n",
      "Training Accuracy:  88.58%\n",
      "Testing Accuracy:  87.17%\n",
      "              precision    recall  f1-score   support\n",
      "\n",
      "           0       0.73      0.90      0.81      7734\n",
      "           1       0.96      0.88      0.92     21286\n",
      "\n",
      "    accuracy                           0.89     29020\n",
      "   macro avg       0.85      0.89      0.86     29020\n",
      "weighted avg       0.90      0.89      0.89     29020\n",
      "\n"
     ]
    }
   ],
   "source": [
    "### determine predicted values\n",
    "nn_train_pred = nn_predict(X_train)\n",
    "nn_test_pred = nn_predict(X_test)\n",
    "\n",
    "### accuracy\n",
    "nn_train_acc = accuracy_score(y_train, nn_train_pred)\n",
    "nn_test_acc = accuracy_score(y_test, nn_test_pred)\n",
    "print(f\"Training Accuracy:  {100*nn_train_acc:.2f}%\")\n",
    "print(f\"Testing Accuracy:  {100*nn_test_acc:.2f}%\")\n",
    "print(classification_report(nn_train_pred, y_train))"
   ]
  },
  {
   "attachments": {},
   "cell_type": "markdown",
   "metadata": {},
   "source": [
    "### Naive Bayes"
   ]
  },
  {
   "cell_type": "code",
   "execution_count": 8,
   "metadata": {},
   "outputs": [
    {
     "name": "stdout",
     "output_type": "stream",
     "text": [
      "Training Accuracy:  67.15%\n",
      "Testing Accuracy:  67.33%\n",
      "              precision    recall  f1-score   support\n",
      "\n",
      "           0       0.01      0.46      0.02       208\n",
      "           1       0.99      0.67      0.80     28812\n",
      "\n",
      "    accuracy                           0.67     29020\n",
      "   macro avg       0.50      0.56      0.41     29020\n",
      "weighted avg       0.99      0.67      0.80     29020\n",
      "\n"
     ]
    },
    {
     "name": "stderr",
     "output_type": "stream",
     "text": [
      "c:\\Users\\samue\\projects\\ecs171\\final_project\\.venv\\lib\\site-packages\\sklearn\\utils\\validation.py:1143: DataConversionWarning: A column-vector y was passed when a 1d array was expected. Please change the shape of y to (n_samples, ), for example using ravel().\n",
      "  y = column_or_1d(y, warn=True)\n"
     ]
    }
   ],
   "source": [
    "###############################\n",
    "### Naive Bayes Categorical ###\n",
    "###############################\n",
    "\n",
    "oe = OrdinalEncoder()\n",
    "X_nb_cat_scaled = oe.fit_transform(X[included_categorical_vars])\n",
    "clf = CategoricalNB()\n",
    "clf.fit(X_nb_cat_scaled, y_bin)\n",
    "\n",
    "\n",
    "def NB_cat(x):\n",
    "    x_scaled = oe.transform(x[included_categorical_vars])\n",
    "    pred = clf.predict(x_scaled)\n",
    "    pred = pred.reshape(-1, 1)\n",
    "    return pred\n",
    "\n",
    "### determine predicted values\n",
    "nb_cat_train_pred = NB_cat(X_train)\n",
    "nb_cat_test_pred = NB_cat(X_test)\n",
    "\n",
    "### accuracy\n",
    "nb_cat_train_acc = accuracy_score(y_train, nb_cat_train_pred)\n",
    "nb_cat_test_acc = accuracy_score(y_test, nb_cat_test_pred)\n",
    "print(f\"Training Accuracy:  {100*nb_cat_train_acc:.2f}%\")\n",
    "print(f\"Testing Accuracy:  {100*nb_cat_test_acc:.2f}%\")\n",
    "print(classification_report(nb_cat_train_pred, y_train))"
   ]
  },
  {
   "cell_type": "code",
   "execution_count": 9,
   "metadata": {},
   "outputs": [
    {
     "name": "stdout",
     "output_type": "stream",
     "text": [
      "Training Accuracy:  37.95%\n",
      "Testing Accuracy:  38.00%\n",
      "              precision    recall  f1-score   support\n",
      "\n",
      "           0       1.00      0.35      0.51     27500\n",
      "           1       0.08      0.99      0.14      1520\n",
      "\n",
      "    accuracy                           0.38     29020\n",
      "   macro avg       0.54      0.67      0.33     29020\n",
      "weighted avg       0.95      0.38      0.49     29020\n",
      "\n"
     ]
    },
    {
     "name": "stderr",
     "output_type": "stream",
     "text": [
      "c:\\Users\\samue\\projects\\ecs171\\final_project\\.venv\\lib\\site-packages\\sklearn\\utils\\validation.py:1143: DataConversionWarning: A column-vector y was passed when a 1d array was expected. Please change the shape of y to (n_samples, ), for example using ravel().\n",
      "  y = column_or_1d(y, warn=True)\n"
     ]
    }
   ],
   "source": [
    "#############################\n",
    "### Naive Bayes Numerical ###\n",
    "#############################\n",
    "\n",
    "scaler_nb_num = StandardScaler()\n",
    "X_nb_num_scaled = scaler_nb_num.fit_transform(X[included_numerical_vars])\n",
    "clf_num = GaussianNB()\n",
    "clf_num.fit(X_nb_num_scaled, y_bin)\n",
    "\n",
    "def NB_num(x):\n",
    "    x_scaled = scaler_nb_num.transform(x[included_numerical_vars])\n",
    "    pred = clf_num.predict(x_scaled)\n",
    "    pred = pred.reshape(-1, 1)\n",
    "    return pred\n",
    "\n",
    "### determine predicted values\n",
    "nb_num_train_pred = NB_num(X_train)\n",
    "nb_num_test_pred = NB_num(X_test)\n",
    "\n",
    "### accuracy\n",
    "nb_num_train_acc = accuracy_score(y_train, nb_num_train_pred)\n",
    "nb_num_test_acc = accuracy_score(y_test, nb_num_test_pred)\n",
    "print(f\"Training Accuracy:  {100*nb_num_train_acc:.2f}%\")\n",
    "print(f\"Testing Accuracy:  {100*nb_num_test_acc:.2f}%\")\n",
    "print(classification_report(nb_num_train_pred, y_train))"
   ]
  },
  {
   "attachments": {},
   "cell_type": "markdown",
   "metadata": {},
   "source": [
    "### Decision Tree"
   ]
  },
  {
   "cell_type": "code",
   "execution_count": 10,
   "metadata": {},
   "outputs": [
    {
     "name": "stdout",
     "output_type": "stream",
     "text": [
      "Training Accuracy:  99.35%\n",
      "Testing Accuracy:  99.46%\n",
      "              precision    recall  f1-score   support\n",
      "\n",
      "           0       0.99      0.99      0.99      9531\n",
      "           1       0.99      1.00      1.00     19489\n",
      "\n",
      "    accuracy                           0.99     29020\n",
      "   macro avg       0.99      0.99      0.99     29020\n",
      "weighted avg       0.99      0.99      0.99     29020\n",
      "\n"
     ]
    }
   ],
   "source": [
    "dt = DecisionTreeClassifier()\n",
    "X_dt_scaled = scaler.transform(X)\n",
    "dt.fit(X_dt_scaled, y_bin)\n",
    "\n",
    "def DecisionTree(x):\n",
    "    x_scaled = scaler.transform(x)\n",
    "    pred = dt.predict(x_scaled)\n",
    "    pred = pred.reshape(-1, 1)\n",
    "    return pred\n",
    "\n",
    "### determine predicted values\n",
    "dt_train_pred = DecisionTree(X_train)\n",
    "dt_test_pred = DecisionTree(X_test)\n",
    "### accuracy\n",
    "\n",
    "dt_train_acc = accuracy_score(y_train, dt_train_pred)\n",
    "dt_test_acc = accuracy_score(y_test, dt_test_pred)\n",
    "print(f\"Training Accuracy:  {100*dt_train_acc:.2f}%\")\n",
    "print(f\"Testing Accuracy:  {100*dt_test_acc:.2f}%\")\n",
    "print(classification_report(dt_train_pred, y_train))"
   ]
  },
  {
   "attachments": {},
   "cell_type": "markdown",
   "metadata": {},
   "source": [
    "### Ensemble"
   ]
  },
  {
   "cell_type": "code",
   "execution_count": 13,
   "metadata": {},
   "outputs": [],
   "source": [
    "def ensemble(x):\n",
    "    nn_pred = nn_predict(x)\n",
    "    dt_pred = DecisionTree(x)\n",
    "    nb_cat_pred = NB_cat(x)\n",
    "    nb_num_pred = NB_num(x)\n",
    "\n",
    "    print(\"Using weights (nn, dt, nb_cat, nb_num):\", nn_test_acc, dt_test_acc, nb_cat_test_acc, nb_num_test_acc)\n",
    "    mean_pred = np.average([nn_pred, dt_pred, nb_cat_pred, nb_num_pred], axis=0, weights=[nn_test_acc, dt_test_acc, nb_cat_test_acc, nb_num_test_acc])\n",
    "\n",
    "    final_pred = np.rint(mean_pred)\n",
    "\n",
    "    return final_pred"
   ]
  },
  {
   "cell_type": "code",
   "execution_count": 14,
   "metadata": {},
   "outputs": [
    {
     "name": "stdout",
     "output_type": "stream",
     "text": [
      "907/907 [==============================] - 1s 2ms/step\n",
      "Using weights (nn, dt, nb_cat, nb_num): 0.8716747070985528 0.9946243969676085 0.673328738800827 0.380013783597519\n",
      "227/227 [==============================] - 0s 1ms/step\n",
      "Using weights (nn, dt, nb_cat, nb_num): 0.8716747070985528 0.9946243969676085 0.673328738800827 0.380013783597519\n",
      "Training Accuracy:  91.16%\n",
      "Testing Accuracy:  90.56%\n"
     ]
    }
   ],
   "source": [
    "### determine predicted values\n",
    "ensemble_train_pred = ensemble(X_train)\n",
    "ensemble_test_pred = ensemble(X_test)\n",
    "### accuracy\n",
    "print(f\"Training Accuracy:  {100*accuracy_score(y_train, ensemble_train_pred):.2f}%\")\n",
    "print(f\"Testing Accuracy:  {100*accuracy_score(y_test, ensemble_test_pred):.2f}%\")"
   ]
  }
 ],
 "metadata": {
  "kernelspec": {
   "display_name": "Python 3",
   "language": "python",
   "name": "python3"
  },
  "language_info": {
   "codemirror_mode": {
    "name": "ipython",
    "version": 3
   },
   "file_extension": ".py",
   "mimetype": "text/x-python",
   "name": "python",
   "nbconvert_exporter": "python",
   "pygments_lexer": "ipython3",
   "version": "3.10.4"
  },
  "orig_nbformat": 4
 },
 "nbformat": 4,
 "nbformat_minor": 2
}
