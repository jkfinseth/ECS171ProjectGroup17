{
 "cells": [
  {
   "cell_type": "code",
   "execution_count": 1,
   "metadata": {},
   "outputs": [],
   "source": [
    "import tensorflow as tf\n",
    "import numpy as np\n",
    "import pandas as pd\n",
    "import pickle"
   ]
  },
  {
   "cell_type": "code",
   "execution_count": 4,
   "metadata": {},
   "outputs": [],
   "source": [
    "### load model\n",
    "model_nn = tf.keras.models.load_model('nn_final.h5', compile=False)\n",
    "model_nn.compile(optimizer=tf.keras.optimizers.Adam(learning_rate=0.005), \n",
    "                loss=tf.keras.losses.binary_crossentropy, \n",
    "                metrics=[tf.keras.metrics.BinaryAccuracy(name='accuracy')])"
   ]
  },
  {
   "cell_type": "code",
   "execution_count": 5,
   "metadata": {},
   "outputs": [],
   "source": [
    "### load feature transformer\n",
    "scaler = pickle.load(open('scaler.pkl', 'rb'))"
   ]
  },
  {
   "cell_type": "code",
   "execution_count": 5,
   "metadata": {},
   "outputs": [],
   "source": [
    "def nn_predict(x):\n",
    "    '''\n",
    "    Takes an input, x, and uses the neural network to predict if the hotel\n",
    "    reservation is cancelled.\n",
    "    \n",
    "    ------------\n",
    "    Input\n",
    "    ------------\n",
    "    The input must be an (n x 16) numpy array or an (n x 16) subset of a named DataFrame.\n",
    "\n",
    "    If the input is a numpy array, then order of the variables must be:\n",
    "\n",
    "    'type_of_meal_plan', 'required_car_parking_space', 'room_type_reserved', 'market_segment_type', 'no_of_adults', 'no_of_children', \n",
    "    'no_of_weekend_nights', 'no_of_week_nights', 'lead_time', 'repeated_guest', 'no_of_previous_cancellations', \n",
    "    'no_of_previous_bookings_not_canceled', 'avg_price_per_room', 'no_of_special_requests', 'arrival_month', 'arrival_date'\n",
    "\n",
    "    ------------\n",
    "    Output\n",
    "    ------------\n",
    "    The output is either 0 or 1.\n",
    "    0: 'Cancelled'\n",
    "    1: 'Not_Cancelled'\n",
    "    \n",
    "    '''\n",
    "    ### transform input\n",
    "    x_scaled = scaler.transform(x)\n",
    "\n",
    "    ### make prediction\n",
    "    threshold = 0.5\n",
    "    pred = model_nn.predict(x_scaled)\n",
    "    pred = np.where(pred >= threshold, 1, 0)\n",
    "\n",
    "    return pred"
   ]
  },
  {
   "attachments": {},
   "cell_type": "markdown",
   "metadata": {},
   "source": [
    "### Example Use"
   ]
  },
  {
   "cell_type": "code",
   "execution_count": 6,
   "metadata": {},
   "outputs": [],
   "source": [
    "from sklearn.model_selection import train_test_split\n",
    "from sklearn.preprocessing import LabelBinarizer\n",
    "from sklearn.metrics import accuracy_score"
   ]
  },
  {
   "cell_type": "code",
   "execution_count": 7,
   "metadata": {},
   "outputs": [],
   "source": [
    "### load in data set and drop 'Booking_ID'\n",
    "hotel_df = pd.read_csv('Hotel Reservations.csv')\n",
    "hotel_df.drop(['Booking_ID'], inplace=True, axis=1)"
   ]
  },
  {
   "cell_type": "code",
   "execution_count": 8,
   "metadata": {},
   "outputs": [],
   "source": [
    "### X will not include 'booking_status' or 'arrival_year'\n",
    "X = hotel_df.drop(['booking_status', 'arrival_year'], axis=1)\n",
    "\n",
    "### y must be binary\n",
    "y = hotel_df['booking_status']\n",
    "y = LabelBinarizer().fit_transform(y)"
   ]
  },
  {
   "cell_type": "code",
   "execution_count": 12,
   "metadata": {},
   "outputs": [],
   "source": [
    "### train-test split\n",
    "X_train, X_test, y_train, y_test = train_test_split(X, y, test_size=0.2, random_state=643)"
   ]
  },
  {
   "cell_type": "code",
   "execution_count": 13,
   "metadata": {},
   "outputs": [
    {
     "name": "stdout",
     "output_type": "stream",
     "text": [
      "907/907 [==============================] - 1s 1ms/step\n",
      "227/227 [==============================] - 0s 1ms/step\n"
     ]
    }
   ],
   "source": [
    "### determine predicted values\n",
    "train_pred = nn_predict(X_train)\n",
    "test_pred = nn_predict(X_test)"
   ]
  },
  {
   "cell_type": "code",
   "execution_count": 14,
   "metadata": {},
   "outputs": [
    {
     "name": "stdout",
     "output_type": "stream",
     "text": [
      "Training Accuracy:  88.36%\n",
      "Testing Accuracy:  88.05%\n"
     ]
    }
   ],
   "source": [
    "### accuracy\n",
    "print(f\"Training Accuracy:  {100*accuracy_score(y_train, train_pred):.2f}%\")\n",
    "print(f\"Testing Accuracy:  {100*accuracy_score(y_test, test_pred):.2f}%\")"
   ]
  }
 ],
 "metadata": {
  "kernelspec": {
   "display_name": "Python 3",
   "language": "python",
   "name": "python3"
  },
  "language_info": {
   "codemirror_mode": {
    "name": "ipython",
    "version": 3
   },
   "file_extension": ".py",
   "mimetype": "text/x-python",
   "name": "python",
   "nbconvert_exporter": "python",
   "pygments_lexer": "ipython3",
   "version": "3.10.4"
  },
  "orig_nbformat": 4
 },
 "nbformat": 4,
 "nbformat_minor": 2
}
