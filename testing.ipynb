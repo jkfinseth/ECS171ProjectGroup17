{
 "cells": [
  {
   "cell_type": "code",
   "execution_count": 1,
   "metadata": {},
   "outputs": [
    {
     "data": {
      "text/html": [
       "<div>\n",
       "<style scoped>\n",
       "    .dataframe tbody tr th:only-of-type {\n",
       "        vertical-align: middle;\n",
       "    }\n",
       "\n",
       "    .dataframe tbody tr th {\n",
       "        vertical-align: top;\n",
       "    }\n",
       "\n",
       "    .dataframe thead th {\n",
       "        text-align: right;\n",
       "    }\n",
       "</style>\n",
       "<table border=\"1\" class=\"dataframe\">\n",
       "  <thead>\n",
       "    <tr style=\"text-align: right;\">\n",
       "      <th></th>\n",
       "      <th>no_of_adults</th>\n",
       "      <th>no_of_children</th>\n",
       "      <th>no_of_weekend_nights</th>\n",
       "      <th>no_of_week_nights</th>\n",
       "      <th>type_of_meal_plan</th>\n",
       "      <th>required_car_parking_space</th>\n",
       "      <th>room_type_reserved</th>\n",
       "      <th>lead_time</th>\n",
       "      <th>no_of_previous_cancellations</th>\n",
       "      <th>no_of_previous_bookings_not_canceled</th>\n",
       "      <th>avg_price_per_room</th>\n",
       "      <th>no_of_special_requests</th>\n",
       "      <th>arrival_month</th>\n",
       "      <th>market_segment_type</th>\n",
       "      <th>repeated_guest</th>\n",
       "      <th>arrival_date</th>\n",
       "    </tr>\n",
       "  </thead>\n",
       "  <tbody>\n",
       "    <tr>\n",
       "      <th>0</th>\n",
       "      <td>2</td>\n",
       "      <td>0</td>\n",
       "      <td>1</td>\n",
       "      <td>1</td>\n",
       "      <td>Meal Plan 1</td>\n",
       "      <td>0</td>\n",
       "      <td>Room_Type 4</td>\n",
       "      <td>267</td>\n",
       "      <td>0</td>\n",
       "      <td>0</td>\n",
       "      <td>115.2</td>\n",
       "      <td>0</td>\n",
       "      <td>10</td>\n",
       "      <td>Online</td>\n",
       "      <td>0</td>\n",
       "      <td>1</td>\n",
       "    </tr>\n",
       "  </tbody>\n",
       "</table>\n",
       "</div>"
      ],
      "text/plain": [
       "   no_of_adults  no_of_children  no_of_weekend_nights  no_of_week_nights   \n",
       "0             2               0                     1                  1  \\\n",
       "\n",
       "  type_of_meal_plan  required_car_parking_space room_type_reserved  lead_time   \n",
       "0       Meal Plan 1                           0        Room_Type 4        267  \\\n",
       "\n",
       "   no_of_previous_cancellations  no_of_previous_bookings_not_canceled   \n",
       "0                             0                                     0  \\\n",
       "\n",
       "   avg_price_per_room  no_of_special_requests  arrival_month   \n",
       "0               115.2                       0             10  \\\n",
       "\n",
       "  market_segment_type  repeated_guest  arrival_date  \n",
       "0              Online               0             1  "
      ]
     },
     "metadata": {},
     "output_type": "display_data"
    },
    {
     "name": "stdout",
     "output_type": "stream",
     "text": [
      "1/1 [==============================] - 0s 250ms/step\n",
      "0\n"
     ]
    }
   ],
   "source": [
    "from models.neural_network import NeuralNetwork\n",
    "import pandas as pd\n",
    "\n",
    "nn_model = NeuralNetwork()\n",
    "nn_model.load()\n",
    "\n",
    "data = {\n",
    "    \"no_of_adults\": 2,\n",
    "    \"no_of_children\": 0,\n",
    "    \"no_of_weekend_nights\": 1,\n",
    "    \"no_of_week_nights\": 1,\n",
    "    \"type_of_meal_plan\": \"Meal Plan 1\",\n",
    "    \"required_car_parking_space\": 0,\n",
    "    \"room_type_reserved\": \"Room_Type 4\",\n",
    "    \"lead_time\": 267,\n",
    "    \"no_of_previous_cancellations\": 0,\n",
    "    \"no_of_previous_bookings_not_canceled\": 0,\n",
    "    \"avg_price_per_room\": 115.2,\n",
    "    \"no_of_special_requests\": 0,\n",
    "    \"arrival_month\": 10,\n",
    "    \"market_segment_type\": \"Online\",\n",
    "    \"repeated_guest\": 0,\n",
    "    \"arrival_date\": 1\n",
    "}\n",
    "\n",
    "input_df = pd.DataFrame([data])\n",
    "\n",
    "display(input_df)\n",
    "\n",
    "print(nn_model.predict(input_df))"
   ]
  }
 ],
 "metadata": {
  "kernelspec": {
   "display_name": ".venv",
   "language": "python",
   "name": "python3"
  },
  "language_info": {
   "codemirror_mode": {
    "name": "ipython",
    "version": 3
   },
   "file_extension": ".py",
   "mimetype": "text/x-python",
   "name": "python",
   "nbconvert_exporter": "python",
   "pygments_lexer": "ipython3",
   "version": "3.10.4"
  },
  "orig_nbformat": 4
 },
 "nbformat": 4,
 "nbformat_minor": 2
}
